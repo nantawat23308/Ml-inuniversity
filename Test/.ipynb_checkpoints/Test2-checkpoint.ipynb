{
 "cells": [
  {
   "cell_type": "code",
   "execution_count": 1,
   "id": "28fbe297-9836-4f79-92d0-658e5c961891",
   "metadata": {},
   "outputs": [],
   "source": [
    "import pandas as pd\n",
    "import csv"
   ]
  },
  {
   "cell_type": "code",
   "execution_count": 2,
   "id": "07d7b631-60e3-4b57-bca9-a558b022fc79",
   "metadata": {},
   "outputs": [],
   "source": [
    "url = 'https://covid19.ddc.moph.go.th/api/Cases/timeline-cases-all'"
   ]
  },
  {
   "cell_type": "code",
   "execution_count": 3,
   "id": "24027321-d6cf-4e82-ab7a-e4b5dbbfa3c4",
   "metadata": {},
   "outputs": [],
   "source": [
    "df = pd.read_json(url) #อ่าน data จาก url ที่เป็นไฟล์ json"
   ]
  },
  {
   "cell_type": "code",
   "execution_count": 4,
   "id": "31a7e97c-ecb3-4a2e-ae86-b83d65a79350",
   "metadata": {},
   "outputs": [],
   "source": [
    "df = df.to_csv(\"coviddata.csv\", index = False) #แปลงเป็น csv เพื่อนำมาใช้ได้ง่ายขึ้น"
   ]
  },
  {
   "cell_type": "code",
   "execution_count": 5,
   "id": "37731036-1624-41cc-b934-b19a8569045e",
   "metadata": {},
   "outputs": [],
   "source": [
    "file = pd.read_csv(\"coviddata.csv\", parse_dates=[\"txn_date\"])"
   ]
  },
  {
   "cell_type": "code",
   "execution_count": 6,
   "id": "8b056982-e658-45ae-b79e-71536161dde5",
   "metadata": {},
   "outputs": [
    {
     "data": {
      "text/plain": [
       "<bound method DataFrame.info of       txn_date  new_case  total_case  new_case_excludeabroad  \\\n",
       "0   2021-04-01        26       28889                      21   \n",
       "1   2021-04-02        58       28947                      45   \n",
       "2   2021-04-03        84       29031                      69   \n",
       "3   2021-04-04        96       29127                      87   \n",
       "4   2021-04-05       194       29321                     182   \n",
       "..         ...       ...         ...                     ...   \n",
       "213 2021-10-31      8859     1912024                    8846   \n",
       "214 2021-11-01      8165     1920189                    8156   \n",
       "215 2021-11-02      7574     1927763                    7564   \n",
       "216 2021-11-03      7679     1935442                    7672   \n",
       "217 2021-11-04      7982     1943424                    7972   \n",
       "\n",
       "     total_case_excludeabroad  new_death  total_death  new_recovered  \\\n",
       "0                       25800          0           94            122   \n",
       "1                       25845          0           94             58   \n",
       "2                       25914          1           95             62   \n",
       "3                       26001          0           95            106   \n",
       "4                       26183          0           95             66   \n",
       "..                        ...        ...          ...            ...   \n",
       "213                   1905569         47        19205           8253   \n",
       "214                   1913725         55        19260           9574   \n",
       "215                   1921289         78        19338           8279   \n",
       "216                   1928961         56        19394           8482   \n",
       "217                   1936933         68        19462           8029   \n",
       "\n",
       "     total_recovered          update_date  \n",
       "0              27767  2021-09-01 07:40:49  \n",
       "1              27825  2021-09-01 07:40:49  \n",
       "2              27887  2021-09-01 07:40:49  \n",
       "3              27993  2021-09-01 07:40:49  \n",
       "4              28059  2021-09-01 07:40:49  \n",
       "..               ...                  ...  \n",
       "213          1792347  2021-10-31 07:30:23  \n",
       "214          1801921  2021-11-01 07:31:04  \n",
       "215          1810200  2021-11-02 07:31:16  \n",
       "216          1818682  2021-11-03 07:30:52  \n",
       "217          1826711  2021-11-04 07:31:25  \n",
       "\n",
       "[218 rows x 10 columns]>"
      ]
     },
     "execution_count": 6,
     "metadata": {},
     "output_type": "execute_result"
    }
   ],
   "source": [
    "file.info"
   ]
  },
  {
   "cell_type": "code",
   "execution_count": 7,
   "id": "894fed9c-0fa7-45ac-b7fe-40076cdd20db",
   "metadata": {},
   "outputs": [],
   "source": [
    "file = pd.DataFrame(file)"
   ]
  },
  {
   "cell_type": "code",
   "execution_count": 8,
   "id": "30a66e48-04bd-49dc-897a-a084fd0b4071",
   "metadata": {},
   "outputs": [],
   "source": [
    "file['Number'] = file.index - file.index[0] #ใช้ column Number แทน Date time"
   ]
  },
  {
   "cell_type": "code",
   "execution_count": 9,
   "id": "fbc7fe59-1b70-484c-924d-80937cb46f6e",
   "metadata": {},
   "outputs": [
    {
     "data": {
      "text/html": [
       "<div>\n",
       "<style scoped>\n",
       "    .dataframe tbody tr th:only-of-type {\n",
       "        vertical-align: middle;\n",
       "    }\n",
       "\n",
       "    .dataframe tbody tr th {\n",
       "        vertical-align: top;\n",
       "    }\n",
       "\n",
       "    .dataframe thead th {\n",
       "        text-align: right;\n",
       "    }\n",
       "</style>\n",
       "<table border=\"1\" class=\"dataframe\">\n",
       "  <thead>\n",
       "    <tr style=\"text-align: right;\">\n",
       "      <th></th>\n",
       "      <th>txn_date</th>\n",
       "    </tr>\n",
       "  </thead>\n",
       "  <tbody>\n",
       "    <tr>\n",
       "      <th>0</th>\n",
       "      <td>2021-04-01</td>\n",
       "    </tr>\n",
       "    <tr>\n",
       "      <th>1</th>\n",
       "      <td>2021-04-02</td>\n",
       "    </tr>\n",
       "    <tr>\n",
       "      <th>2</th>\n",
       "      <td>2021-04-03</td>\n",
       "    </tr>\n",
       "    <tr>\n",
       "      <th>3</th>\n",
       "      <td>2021-04-04</td>\n",
       "    </tr>\n",
       "    <tr>\n",
       "      <th>4</th>\n",
       "      <td>2021-04-05</td>\n",
       "    </tr>\n",
       "    <tr>\n",
       "      <th>...</th>\n",
       "      <td>...</td>\n",
       "    </tr>\n",
       "    <tr>\n",
       "      <th>213</th>\n",
       "      <td>2021-10-31</td>\n",
       "    </tr>\n",
       "    <tr>\n",
       "      <th>214</th>\n",
       "      <td>2021-11-01</td>\n",
       "    </tr>\n",
       "    <tr>\n",
       "      <th>215</th>\n",
       "      <td>2021-11-02</td>\n",
       "    </tr>\n",
       "    <tr>\n",
       "      <th>216</th>\n",
       "      <td>2021-11-03</td>\n",
       "    </tr>\n",
       "    <tr>\n",
       "      <th>217</th>\n",
       "      <td>2021-11-04</td>\n",
       "    </tr>\n",
       "  </tbody>\n",
       "</table>\n",
       "<p>218 rows × 1 columns</p>\n",
       "</div>"
      ],
      "text/plain": [
       "      txn_date\n",
       "0   2021-04-01\n",
       "1   2021-04-02\n",
       "2   2021-04-03\n",
       "3   2021-04-04\n",
       "4   2021-04-05\n",
       "..         ...\n",
       "213 2021-10-31\n",
       "214 2021-11-01\n",
       "215 2021-11-02\n",
       "216 2021-11-03\n",
       "217 2021-11-04\n",
       "\n",
       "[218 rows x 1 columns]"
      ]
     },
     "execution_count": 9,
     "metadata": {},
     "output_type": "execute_result"
    }
   ],
   "source": [
    "file[['txn_date']]"
   ]
  },
  {
   "cell_type": "code",
   "execution_count": 10,
   "id": "4103433c-1dd8-46ca-aa71-dcbb87243f41",
   "metadata": {},
   "outputs": [
    {
     "data": {
      "text/plain": [
       "0        26\n",
       "1        58\n",
       "2        84\n",
       "3        96\n",
       "4       194\n",
       "       ... \n",
       "213    8859\n",
       "214    8165\n",
       "215    7574\n",
       "216    7679\n",
       "217    7982\n",
       "Name: new_case, Length: 218, dtype: int64"
      ]
     },
     "execution_count": 10,
     "metadata": {},
     "output_type": "execute_result"
    }
   ],
   "source": [
    "file[\"new_case\"]"
   ]
  },
  {
   "cell_type": "code",
   "execution_count": 11,
   "id": "a43d2a32-f18c-42c9-b4d4-0a6a250d5161",
   "metadata": {},
   "outputs": [
    {
     "data": {
      "text/plain": [
       "LinearRegression()"
      ]
     },
     "execution_count": 11,
     "metadata": {},
     "output_type": "execute_result"
    }
   ],
   "source": [
    "import sklearn\n",
    "from sklearn.linear_model import LinearRegression\n",
    "model = LinearRegression()\n",
    "X = file[[\"Number\"]] \n",
    "y = file[\"new_case\"]\n",
    "model.fit(X,y)"
   ]
  },
  {
   "cell_type": "code",
   "execution_count": 12,
   "id": "b1c50c92-eecc-4fb2-bafa-881ee403f5b5",
   "metadata": {},
   "outputs": [
    {
     "data": {
      "text/plain": [
       "[<matplotlib.lines.Line2D at 0x2191aff93d0>]"
      ]
     },
     "execution_count": 12,
     "metadata": {},
     "output_type": "execute_result"
    },
    {
     "data": {
      "image/png": "[encoded data removed]",
      "text/plain": [
       "<Figure size 432x288 with 1 Axes>"
      ]
     },
     "metadata": {
      "needs_background": "light"
     },
     "output_type": "display_data"
    }
   ],
   "source": [
    "import matplotlib.pyplot as plt\n",
    "plt.scatter(X,y)\n",
    "plt.plot(X, model.predict(X),'r')"
   ]
  },
  {
   "cell_type": "code",
   "execution_count": 13,
   "id": "7d951a1f-dcec-4f1b-8856-a03617df0779",
   "metadata": {},
   "outputs": [],
   "source": [
    "X = X.values"
   ]
  },
  {
   "cell_type": "code",
   "execution_count": 14,
   "id": "96c30e2b-0f22-40d2-aefd-91d58a3a70b6",
   "metadata": {},
   "outputs": [],
   "source": [
    "y = y.values"
   ]
  },
  {
   "cell_type": "code",
   "execution_count": 15,
   "id": "90a65a8d-e7c1-4e41-855f-3e291a2bd092",
   "metadata": {},
   "outputs": [],
   "source": [
    "from sklearn.model_selection import train_test_split #แบ่งส่วน test และ train\n",
    "X_train, X_test, y_train, y_test = train_test_split(X,y,test_size = 0.1)\n"
   ]
  },
  {
   "cell_type": "code",
   "execution_count": 16,
   "id": "9d8a6881-668c-4c76-a12a-4ebb93c93ec3",
   "metadata": {},
   "outputs": [
    {
     "data": {
      "text/plain": [
       "0.4540988568566592"
      ]
     },
     "execution_count": 16,
     "metadata": {},
     "output_type": "execute_result"
    }
   ],
   "source": [
    "model = LinearRegression()\n",
    "model.fit(X_train, y_train)\n",
    "model.score(X_train, y_train) #R-square"
   ]
  },
  {
   "cell_type": "code",
   "execution_count": 17,
   "id": "9c192622-a701-4b08-be4b-a65d36a9c5d4",
   "metadata": {},
   "outputs": [],
   "source": [
    "from sklearn.preprocessing import PolynomialFeatures #เลือกใข้ Polynomial เพื่อให้ predic ได้แม่นยำมากขึ้น\n",
    "poly_features = PolynomialFeatures(degree=12)  #เลือกใช้ degree 12 เพราะ R-square สูง และกราฟที่ได้แม่นยำมากขึ้น\n",
    "X_poly = poly_features.fit_transform(X_train)\n",
    "\n"
   ]
  },
  {
   "cell_type": "code",
   "execution_count": 18,
   "id": "6d53607e-ad43-4db8-87d5-94acc60196b4",
   "metadata": {},
   "outputs": [
    {
     "data": {
      "text/plain": [
       "LinearRegression()"
      ]
     },
     "execution_count": 18,
     "metadata": {},
     "output_type": "execute_result"
    }
   ],
   "source": [
    "model2 = LinearRegression()\n",
    "model2.fit(X_poly,y_train)"
   ]
  },
  {
   "cell_type": "code",
   "execution_count": 19,
   "id": "0557a07b-cf68-4d3f-96c7-d3025fdfb84c",
   "metadata": {},
   "outputs": [
    {
     "data": {
      "text/plain": [
       "[<matplotlib.lines.Line2D at 0x2191b0f38b0>]"
      ]
     },
     "execution_count": 19,
     "metadata": {},
     "output_type": "execute_result"
    },
    {
     "data": {
      "image/png": "[encoded data removed]",
      "text/plain": [
       "<Figure size 432x288 with 1 Axes>"
      ]
     },
     "metadata": {
      "needs_background": "light"
     },
     "output_type": "display_data"
    }
   ],
   "source": [
    "plt.scatter(X,y)\n",
    "plt.plot(X , model2.predict(poly_features.fit_transform(X)),'r')"
   ]
  },
  {
   "cell_type": "code",
   "execution_count": 20,
   "id": "3823983d-7cee-498e-8a54-a394e52d6509",
   "metadata": {},
   "outputs": [
    {
     "data": {
      "text/plain": [
       "0.9507501683746679"
      ]
     },
     "execution_count": 20,
     "metadata": {},
     "output_type": "execute_result"
    }
   ],
   "source": [
    "model2.score(X_poly,y_train) #R-square"
   ]
  },
  {
   "cell_type": "code",
   "execution_count": 21,
   "id": "eaa12e1c-30eb-4d72-98f0-9c2a84f749a6",
   "metadata": {},
   "outputs": [],
   "source": [
    "import numpy as np #สร้างข้อมูล เพื่อ predict 8 วัน\n",
    "data_pred = np.arange(221, 229, 1).reshape(-1,1)"
   ]
  },
  {
   "cell_type": "code",
   "execution_count": 22,
   "id": "dee5044c-5f99-4321-9836-4211b5d3c678",
   "metadata": {},
   "outputs": [
    {
     "data": {
      "text/plain": [
       "array([ 9691.62852681, 10701.49610686, 12024.51159048, 13715.8219769 ,\n",
       "       15837.23489916, 18457.80322468, 21654.44830739, 25512.62384915])"
      ]
     },
     "execution_count": 22,
     "metadata": {},
     "output_type": "execute_result"
    }
   ],
   "source": [
    "model2.predict(poly_features.fit_transform(data_pred))"
   ]
  },
  {
   "cell_type": "markdown",
   "id": "855cea4c-5da9-4d8d-af86-016df25e8c9d",
   "metadata": {},
   "source": [
    "x4plot_poly = poly_features.fit_transform(X_poly)\n",
    "y_poly_pred_plot = model.predict(x4plot_poly)"
   ]
  },
  {
   "cell_type": "code",
   "execution_count": 23,
   "id": "f03b2e0a-d2e9-427a-a38c-1f402aea4e46",
   "metadata": {},
   "outputs": [
    {
     "data": {
      "text/plain": [
       "array([7884.10575408])"
      ]
     },
     "execution_count": 23,
     "metadata": {},
     "output_type": "execute_result"
    }
   ],
   "source": [
    "model2.predict(poly_features.fit_transform([[217]]))"
   ]
  },
  {
   "cell_type": "code",
   "execution_count": null,
   "id": "ab6aec49-9b22-42a0-bbca-540c310c56ff",
   "metadata": {},
   "outputs": [],
   "source": []
  },
  {
   "cell_type": "code",
   "execution_count": null,
   "id": "3aa86e0e-cde0-4e3e-a96a-bdd28d4dd0f9",
   "metadata": {},
   "outputs": [],
   "source": []
  },
  {
   "cell_type": "code",
   "execution_count": null,
   "id": "571d2e96-289f-48bb-98a5-b2e453f42958",
   "metadata": {},
   "outputs": [],
   "source": []
  }
 ],
 "metadata": {
  "kernelspec": {
   "display_name": "Python 3 (ipykernel)",
   "language": "python",
   "name": "python3"
  },
  "language_info": {
   "codemirror_mode": {
    "name": "ipython",
    "version": 3
   },
   "file_extension": ".py",
   "mimetype": "text/x-python",
   "name": "python",
   "nbconvert_exporter": "python",
   "pygments_lexer": "ipython3",
   "version": "3.8.11"
  }
 },
 "nbformat": 4,
 "nbformat_minor": 5
}
