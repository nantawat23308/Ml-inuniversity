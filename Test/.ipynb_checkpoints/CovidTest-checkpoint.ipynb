{
 "cells": [
  {
   "cell_type": "code",
   "execution_count": 233,
   "id": "921c86c2-6b3c-49e8-b93f-679d16f4f5c8",
   "metadata": {},
   "outputs": [],
   "source": [
    "from sklearn.neighbors import KNeighborsClassifier\n",
    "from sklearn.model_selection import train_test_split\n",
    "\n",
    "import numpy as np\n",
    "import matplotlib.pyplot as plt\n",
    "import os\n",
    "import cv2\n",
    "import tensorflow as tf\n",
    "from os import listdir\n",
    "from os.path import isfile, join\n",
    "#import libary ที่ต้องการใช้"
   ]
  },
  {
   "cell_type": "code",
   "execution_count": 234,
   "id": "9134a6c0-679a-4fbc-ab20-b4f813b0a134",
   "metadata": {},
   "outputs": [],
   "source": [
    "IMG_SIZE = 50\n",
    "#กำหนด image size =50 ไว้ครั้งเดียว"
   ]
  },
  {
   "cell_type": "code",
   "execution_count": 235,
   "id": "58e16a51-8f7b-4d88-bb09-81d8706e3f87",
   "metadata": {},
   "outputs": [
    {
     "name": "stdout",
     "output_type": "stream",
     "text": [
      "430\n"
     ]
    }
   ],
   "source": [
    "DATADIR = \"C:\\\\Users\\\\admin\\\\AI\\\\Train\"\n",
    "Categories = ['covid', 'normal']\n",
    "\n",
    "training_data = []\n",
    "def create_training_data():\n",
    "    for category in Categories:\n",
    "        path = os.path.join(DATADIR, category) #path\n",
    "        label = Categories.index(category) #กำหนด label\n",
    "        for img in os.listdir(path):\n",
    "            try:\n",
    "                img_array = cv2.imread(os.path.join(path,img), cv2.IMREAD_GRAYSCALE)\n",
    "                new_array = cv2.resize(img_array, (IMG_SIZE, IMG_SIZE)) #จำเป็น\n",
    "                img = np.array(new_array).flatten()\n",
    "                training_data.append([img, label])\n",
    "                \n",
    "            except Exception as e:\n",
    "                pass\n",
    "\n",
    "create_training_data()\n",
    "print(len(training_data))\n",
    "#load data เพื่อนำมา train model โดยเก็บไว้ใน list ที่ชื่อ training_data"
   ]
  },
  {
   "cell_type": "code",
   "execution_count": 237,
   "id": "9c7234db-604e-47f7-8fa2-9c5702cbb71c",
   "metadata": {},
   "outputs": [],
   "source": [
    "import random\n",
    "random.shuffle(training_data)\n",
    "#สุ่ม training_data"
   ]
  },
  {
   "cell_type": "code",
   "execution_count": 238,
   "id": "d0648a0a-605a-40e4-a8e8-2695251b02f8",
   "metadata": {},
   "outputs": [],
   "source": [
    "X = []\n",
    "y = []\n",
    "#สร้าง X list และ y list เพื่อเอาไว้ train data"
   ]
  },
  {
   "cell_type": "code",
   "execution_count": 239,
   "id": "e16f42a1-058e-4228-8c29-76c5ad9d3351",
   "metadata": {},
   "outputs": [],
   "source": [
    "for features, label in training_data:\n",
    "    X.append(features)\n",
    "    y.append(label)\n",
    "#เก็บ data ที่เป็น feature ของรูปและ label ของรูป"
   ]
  },
  {
   "cell_type": "code",
   "execution_count": 240,
   "id": "4ab5940c-1775-445e-8131-140b4dbb8e55",
   "metadata": {},
   "outputs": [],
   "source": [
    "from sklearn.model_selection import train_test_split\n",
    "trainX, testX, trainy, testy = train_test_split(X, y, test_size=0.5)\n",
    "#train data \n"
   ]
  },
  {
   "cell_type": "code",
   "execution_count": 242,
   "id": "5212b2b4-1080-4dc1-ac41-8d80822372bc",
   "metadata": {},
   "outputs": [
    {
     "name": "stdout",
     "output_type": "stream",
     "text": [
      "Acc: 0.813953488372093\n",
      "prediction: covid\n"
     ]
    }
   ],
   "source": [
    "model = KNeighborsClassifier(n_neighbors= 15)\n",
    "model.fit(trainX, trainy)\n",
    "prediction = model.predict(testX)\n",
    "acc = model.score(testX,testy)\n",
    "print('Acc:', acc)\n",
    "print('prediction:', Categories[prediction[0]])\n",
    "# เลือกใช้ KNeighborsClassifier เพราะเป็นปัญหา classifier เครื่องนี้ได้ accuracy ที่ 85%"
   ]
  },
  {
   "cell_type": "code",
   "execution_count": 243,
   "id": "9f4a42cd-4363-43b8-9c3b-0d1e6eab5480",
   "metadata": {},
   "outputs": [],
   "source": [
    "TestData = \"C:\\\\Users\\\\admin\\\\AI\\\\Test\"\n",
    "test_data =[]\n",
    "def create_test_data():\n",
    "    path2 = os.path.join(TestData)\n",
    "    for img in os.listdir(path2):\n",
    "        try:\n",
    "            img_array = cv2.imread(os.path.join(path2,img), cv2.IMREAD_GRAYSCALE)\n",
    "            new_array = cv2.resize(img_array, (IMG_SIZE,IMG_SIZE))\n",
    "            img = np.array(new_array).flatten()\n",
    "            test_data.append([img])\n",
    "        except Exception as e:\n",
    "            pass\n",
    "\n",
    "create_test_data()\n",
    "\n",
    "#load data ที่ใช้ในการ  test model"
   ]
  },
  {
   "cell_type": "code",
   "execution_count": 244,
   "id": "c099d93c-8378-4f4f-9c42-c54f56e5c269",
   "metadata": {},
   "outputs": [
    {
     "name": "stdout",
     "output_type": "stream",
     "text": [
      "prediction: covid\n"
     ]
    }
   ],
   "source": [
    "prediction = model.predict(test_data[19])\n",
    "print('prediction:', Categories[prediction[0]])\n",
    "#test กับ file test"
   ]
  },
  {
   "cell_type": "code",
   "execution_count": 245,
   "id": "1f5ee4cd-2115-44d2-a10f-936dda482449",
   "metadata": {},
   "outputs": [],
   "source": [
    "import pandas as pd\n",
    "df = pd.DataFrame({'imageID':['image01','image02','image03','image04','image05'\n",
    "                            ,'image06','image07','image08','image09','image10'\n",
    "                            ,'image11','image12','image13','image14','image15'\n",
    "                            ,'image16','image17','image18','image19','image20']})\n",
    "df.to_csv('Result.csv', mode='a', index=False, header=True)\n",
    "#สร้าง file csv"
   ]
  },
  {
   "cell_type": "code",
   "execution_count": null,
   "id": "b6d6d7ed-fd69-41ea-92d8-8418433c2961",
   "metadata": {},
   "outputs": [],
   "source": []
  }
 ],
 "metadata": {
  "kernelspec": {
   "display_name": "Python 3 (ipykernel)",
   "language": "python",
   "name": "python3"
  },
  "language_info": {
   "codemirror_mode": {
    "name": "ipython",
    "version": 3
   },
   "file_extension": ".py",
   "mimetype": "text/x-python",
   "name": "python",
   "nbconvert_exporter": "python",
   "pygments_lexer": "ipython3",
   "version": "3.8.11"
  }
 },
 "nbformat": 4,
 "nbformat_minor": 5
}
