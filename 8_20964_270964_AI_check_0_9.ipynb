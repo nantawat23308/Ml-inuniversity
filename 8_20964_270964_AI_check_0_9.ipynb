{
 "cells": [
  {
   "cell_type": "code",
   "execution_count": 1,
   "id": "ce58f28c",
   "metadata": {},
   "outputs": [],
   "source": [
    "from sklearn.datasets import load_digits\n",
    "digits=load_digits()"
   ]
  },
  {
   "cell_type": "code",
   "execution_count": 2,
   "id": "08b6f970",
   "metadata": {},
   "outputs": [
    {
     "data": {
      "text/plain": [
       "sklearn.utils.Bunch"
      ]
     },
     "execution_count": 2,
     "metadata": {},
     "output_type": "execute_result"
    }
   ],
   "source": [
    "type(digits)"
   ]
  },
  {
   "cell_type": "code",
   "execution_count": 3,
   "id": "35ebfc56",
   "metadata": {},
   "outputs": [
    {
     "data": {
      "text/plain": [
       "(1797, 64)"
      ]
     },
     "execution_count": 3,
     "metadata": {},
     "output_type": "execute_result"
    }
   ],
   "source": [
    "digits.data.shape"
   ]
  },
  {
   "cell_type": "code",
   "execution_count": 4,
   "id": "90710f90",
   "metadata": {},
   "outputs": [],
   "source": [
    "import matplotlib.pyplot as plt\n",
    "import numpy as np"
   ]
  },
  {
   "cell_type": "code",
   "execution_count": 8,
   "id": "2d7cb596",
   "metadata": {},
   "outputs": [
    {
     "data": {
      "text/plain": [
       "<matplotlib.image.AxesImage at 0x259d7d40880>"
      ]
     },
     "execution_count": 8,
     "metadata": {},
     "output_type": "execute_result"
    },
    {
     "data": {
      "image/png": "[encoded data removed]",
      "text/plain": [
       "<Figure size 432x288 with 1 Axes>"
      ]
     },
     "metadata": {
      "needs_background": "light"
     },
     "output_type": "display_data"
    }
   ],
   "source": [
    "plt.imshow(np.reshape(digits.data[0],(8,8)),cmap=plt.cm.gray)"
   ]
  },
  {
   "cell_type": "code",
   "execution_count": 11,
   "id": "62e8d558",
   "metadata": {},
   "outputs": [
    {
     "data": {
      "text/plain": [
       "array([0, 1, 2, 3])"
      ]
     },
     "execution_count": 11,
     "metadata": {},
     "output_type": "execute_result"
    }
   ],
   "source": [
    "digits.target[0:4]"
   ]
  },
  {
   "cell_type": "code",
   "execution_count": 15,
   "id": "4554e004",
   "metadata": {},
   "outputs": [
    {
     "data": {
      "text/plain": [
       "SGDClassifier()"
      ]
     },
     "execution_count": 15,
     "metadata": {},
     "output_type": "execute_result"
    }
   ],
   "source": [
    "from sklearn.linear_model import SGDClassifier\n",
    "sgd_model=SGDClassifier()\n",
    "sgd_model.fit(digits.data,digits.target)\n"
   ]
  },
  {
   "cell_type": "code",
   "execution_count": 18,
   "id": "0c733373",
   "metadata": {},
   "outputs": [
    {
     "data": {
      "text/plain": [
       "array([8])"
      ]
     },
     "execution_count": 18,
     "metadata": {},
     "output_type": "execute_result"
    }
   ],
   "source": [
    "sgd_model.predict(digits.data[1796].reshape(1, -1))"
   ]
  },
  {
   "cell_type": "code",
   "execution_count": 19,
   "id": "203c079e",
   "metadata": {},
   "outputs": [],
   "source": [
    "from sklearn.metrics import confusion_matrix"
   ]
  },
  {
   "cell_type": "code",
   "execution_count": 20,
   "id": "c147d565",
   "metadata": {},
   "outputs": [],
   "source": [
    "predictions=sgd_model.predict(digits.data)"
   ]
  },
  {
   "cell_type": "code",
   "execution_count": 21,
   "id": "a22f1b05",
   "metadata": {},
   "outputs": [],
   "source": [
    "confus_matrix = confusion_matrix(digits.target,predictions)"
   ]
  },
  {
   "cell_type": "code",
   "execution_count": 22,
   "id": "cc18b945",
   "metadata": {},
   "outputs": [
    {
     "data": {
      "text/plain": [
       "array([[178,   0,   0,   0,   0,   0,   0,   0,   0,   0],\n",
       "       [  0, 180,   0,   2,   0,   0,   0,   0,   0,   0],\n",
       "       [  0,   0, 176,   1,   0,   0,   0,   0,   0,   0],\n",
       "       [  0,   0,   0, 183,   0,   0,   0,   0,   0,   0],\n",
       "       [  0,   6,   0,   0, 171,   0,   1,   2,   0,   1],\n",
       "       [  0,   0,   0,   1,   0, 180,   0,   0,   0,   1],\n",
       "       [  0,   0,   0,   0,   0,   0, 181,   0,   0,   0],\n",
       "       [  0,   0,   0,   0,   0,   0,   0, 179,   0,   0],\n",
       "       [  0,  10,   0,  15,   0,   0,   1,   0, 148,   0],\n",
       "       [  0,   2,   0,   7,   0,   0,   0,   1,   0, 170]], dtype=int64)"
      ]
     },
     "execution_count": 22,
     "metadata": {},
     "output_type": "execute_result"
    }
   ],
   "source": [
    "confus_matrix"
   ]
  },
  {
   "cell_type": "code",
   "execution_count": null,
   "id": "7d3a6870",
   "metadata": {},
   "outputs": [],
   "source": [
    "from sklearn.model_selection import train_test_split"
   ]
  },
  {
   "cell_type": "code",
   "execution_count": null,
   "id": "2a109ab4",
   "metadata": {},
   "outputs": [],
   "source": [
    "X_train,X_test,y_train,y_test(digits.data,digits.target,test_size=0.3,random_state=27)"
   ]
  },
  {
   "cell_type": "code",
   "execution_count": null,
   "id": "f8cd0eb8",
   "metadata": {},
   "outputs": [],
   "source": [
    "sgd_model.fit(X_train,y_train)"
   ]
  },
  {
   "cell_type": "code",
   "execution_count": null,
   "id": "3cb540da",
   "metadata": {},
   "outputs": [],
   "source": [
    "predictions=sgd_model.predict(X_test)"
   ]
  },
  {
   "cell_type": "code",
   "execution_count": null,
   "id": "7b1763fc",
   "metadata": {},
   "outputs": [],
   "source": [
    "confus_matrix(y_test,predictions)"
   ]
  },
  {
   "cell_type": "code",
   "execution_count": null,
   "id": "4a20954c",
   "metadata": {},
   "outputs": [],
   "source": [
    "from sklearn.metrics import accuracy_score\n",
    "accuracy_score(y_test,predictions)"
   ]
  },
  {
   "cell_type": "code",
   "execution_count": null,
   "id": "972c4920",
   "metadata": {},
   "outputs": [],
   "source": [
    "from sklearn.model_selection import cross_val_score\n",
    "cross_val_score(sgd_model,X_train,y_train,cv=3,scoring='accuracy')"
   ]
  },
  {
   "cell_type": "code",
   "execution_count": null,
   "id": "3858a145",
   "metadata": {},
   "outputs": [],
   "source": [
    "y_train_5=(y_train==5)\n",
    "y_test_5=(y_test==5)"
   ]
  },
  {
   "cell_type": "code",
   "execution_count": null,
   "id": "e73698d3",
   "metadata": {},
   "outputs": [],
   "source": [
    "plt.plot(np.arrange(0,1257,1),y_train_5,'.')"
   ]
  },
  {
   "cell_type": "code",
   "execution_count": null,
   "id": "de940adb",
   "metadata": {},
   "outputs": [],
   "source": [
    "y_train_5[200:210]"
   ]
  },
  {
   "cell_type": "code",
   "execution_count": null,
   "id": "52a81c54",
   "metadata": {},
   "outputs": [],
   "source": [
    "from sklearn.linear_model import SGDClassifier\n",
    "\n",
    "sgdclf=SGDClassifier()\n",
    "sgdclf.fit(X_train,y_train_5)"
   ]
  },
  {
   "cell_type": "code",
   "execution_count": null,
   "id": "db63fd7c",
   "metadata": {},
   "outputs": [],
   "source": [
    "cross_val_score(sgdclf,X_train,y_train_5,cv=3,scoring='accuracy')"
   ]
  },
  {
   "cell_type": "code",
   "execution_count": null,
   "id": "91ed5258",
   "metadata": {},
   "outputs": [],
   "source": [
    "from sklearn.model_selection import cross_val_predict\n",
    "y_train_5_pred=cross_val_predict(sgdclf,X_train,y_train_5,cv=3)"
   ]
  },
  {
   "cell_type": "code",
   "execution_count": null,
   "id": "8d1d725a",
   "metadata": {},
   "outputs": [],
   "source": [
    "confustion_matrix(y_train_5,y_train_5_pred)"
   ]
  },
  {
   "cell_type": "code",
   "execution_count": null,
   "id": "005cd722",
   "metadata": {},
   "outputs": [],
   "source": [
    "from sklearn.metrics import precision_score,recall_score"
   ]
  },
  {
   "cell_type": "code",
   "execution_count": null,
   "id": "7dac0328",
   "metadata": {},
   "outputs": [],
   "source": [
    "precision_score(y_train_5,y_train_5_pred)"
   ]
  },
  {
   "cell_type": "code",
   "execution_count": null,
   "id": "c685f254",
   "metadata": {},
   "outputs": [],
   "source": [
    "recall_score(y_train_5,y_train_5_pred)"
   ]
  },
  {
   "cell_type": "code",
   "execution_count": null,
   "id": "160271bf",
   "metadata": {},
   "outputs": [],
   "source": [
    "from sklearn.metrics import f1_score\n",
    "f1_score(y_train_5,y_train_5_pred)"
   ]
  },
  {
   "cell_type": "code",
   "execution_count": null,
   "id": "222b3653",
   "metadata": {},
   "outputs": [],
   "source": [
    "from sklearn.metrics import roc_curve"
   ]
  },
  {
   "cell_type": "code",
   "execution_count": null,
   "id": "fa8e372b",
   "metadata": {},
   "outputs": [],
   "source": [
    "#y_scores=cross_val_predict(sgdclf,X_train,y_train_5,cv=3,method='decision_function')\n",
    "fpr,tpr,thresholds=roc_curve(y_train_5,y_train_5_pred)"
   ]
  },
  {
   "cell_type": "code",
   "execution_count": null,
   "id": "11f35291",
   "metadata": {},
   "outputs": [],
   "source": [
    "plt.plot(fpr,tpr)\n",
    "plt.plot([0,1],[0,1],'--')\n",
    "plt.grid(True)"
   ]
  },
  {
   "cell_type": "code",
   "execution_count": null,
   "id": "bbeb75ba",
   "metadata": {},
   "outputs": [],
   "source": [
    "from sklearn.metrics import roc_auc_score\n",
    "roc_auc_score(y_train_5,y_train_5_pred)"
   ]
  }
 ],
 "metadata": {
  "kernelspec": {
   "display_name": "Python 3 (ipykernel)",
   "language": "python",
   "name": "python3"
  },
  "language_info": {
   "codemirror_mode": {
    "name": "ipython",
    "version": 3
   },
   "file_extension": ".py",
   "mimetype": "text/x-python",
   "name": "python",
   "nbconvert_exporter": "python",
   "pygments_lexer": "ipython3",
   "version": "3.9.7"
  }
 },
 "nbformat": 4,
 "nbformat_minor": 5
}
