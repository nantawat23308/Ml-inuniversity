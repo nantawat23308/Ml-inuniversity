{
 "cells": [
  {
   "cell_type": "code",
   "execution_count": 19,
   "id": "7169f2f6",
   "metadata": {},
   "outputs": [],
   "source": [
    "import cv2\n",
    "import numpy as np"
   ]
  },
  {
   "cell_type": "code",
   "execution_count": null,
   "id": "e8292eaf",
   "metadata": {},
   "outputs": [],
   "source": [
    "#face_detection=cv2.CascadeClassifier('./haarcascade_frontalface_default.xml') #ใช้ทฤษฎีของ harr "
   ]
  },
  {
   "cell_type": "code",
   "execution_count": 20,
   "id": "1f50609c",
   "metadata": {},
   "outputs": [],
   "source": [
    "img=cv2.imread('maksssksksss51.png')"
   ]
  },
  {
   "cell_type": "code",
   "execution_count": 21,
   "id": "32e2037c",
   "metadata": {},
   "outputs": [],
   "source": [
    "gray_img=cv2.cvtColor(img,cv2.COLOR_BGR2GRAY)"
   ]
  },
  {
   "cell_type": "code",
   "execution_count": null,
   "id": "b08dfb92",
   "metadata": {},
   "outputs": [],
   "source": [
    "#faces=face_detection.detectMultiScale(gray_img,1.3,5) #output คือพิกัดของกล่อง bounding box"
   ]
  },
  {
   "cell_type": "code",
   "execution_count": null,
   "id": "c7a97dd9",
   "metadata": {},
   "outputs": [],
   "source": [
    "#for (x,y,w,h) in faces:\n",
    "#    box = cv2.rectangle(img,(x,y),(x+w,y+h),(255,0,0),3) #3 is channal\n",
    "#cv2.imshow('Detected Faces',img)\n",
    "#cv2.waitKey(0)"
   ]
  },
  {
   "cell_type": "code",
   "execution_count": null,
   "id": "b2dd1304",
   "metadata": {},
   "outputs": [],
   "source": [
    "#กรณี detect eye"
   ]
  },
  {
   "cell_type": "code",
   "execution_count": 22,
   "id": "bb6708e3",
   "metadata": {},
   "outputs": [],
   "source": [
    "eye_detection=cv2.CascadeClassifier('./haarcascade_eye.xml')"
   ]
  },
  {
   "cell_type": "code",
   "execution_count": 23,
   "id": "13705a76",
   "metadata": {},
   "outputs": [],
   "source": [
    "eyes=eye_detection.detectMultiScale(gray_img,1.03,5)"
   ]
  },
  {
   "cell_type": "code",
   "execution_count": 24,
   "id": "bebb8e0f",
   "metadata": {},
   "outputs": [
    {
     "ename": "KeyboardInterrupt",
     "evalue": "",
     "output_type": "error",
     "traceback": [
      "\u001b[1;31m---------------------------------------------------------------------------\u001b[0m",
      "\u001b[1;31mKeyboardInterrupt\u001b[0m                         Traceback (most recent call last)",
      "\u001b[1;32m~\\AppData\\Local\\Temp/ipykernel_10472/1048939046.py\u001b[0m in \u001b[0;36m<module>\u001b[1;34m\u001b[0m\n\u001b[0;32m      2\u001b[0m     \u001b[0meye_box\u001b[0m\u001b[1;33m=\u001b[0m\u001b[0mcv2\u001b[0m\u001b[1;33m.\u001b[0m\u001b[0mrectangle\u001b[0m\u001b[1;33m(\u001b[0m\u001b[0mimg\u001b[0m\u001b[1;33m,\u001b[0m\u001b[1;33m(\u001b[0m\u001b[0mex\u001b[0m\u001b[1;33m,\u001b[0m\u001b[0mey\u001b[0m\u001b[1;33m)\u001b[0m\u001b[1;33m,\u001b[0m\u001b[1;33m(\u001b[0m\u001b[0mex\u001b[0m\u001b[1;33m+\u001b[0m\u001b[0mew\u001b[0m\u001b[1;33m,\u001b[0m\u001b[0mey\u001b[0m\u001b[1;33m+\u001b[0m\u001b[0meh\u001b[0m\u001b[1;33m)\u001b[0m\u001b[1;33m,\u001b[0m\u001b[1;33m(\u001b[0m\u001b[1;36m0\u001b[0m\u001b[1;33m,\u001b[0m\u001b[1;36m255\u001b[0m\u001b[1;33m,\u001b[0m\u001b[1;36m0\u001b[0m\u001b[1;33m)\u001b[0m\u001b[1;33m,\u001b[0m\u001b[1;36m3\u001b[0m\u001b[1;33m)\u001b[0m\u001b[1;33m\u001b[0m\u001b[1;33m\u001b[0m\u001b[0m\n\u001b[0;32m      3\u001b[0m \u001b[0mcv2\u001b[0m\u001b[1;33m.\u001b[0m\u001b[0mimshow\u001b[0m\u001b[1;33m(\u001b[0m\u001b[1;34m'Detected Eyes'\u001b[0m\u001b[1;33m,\u001b[0m\u001b[0mimg\u001b[0m\u001b[1;33m)\u001b[0m\u001b[1;33m\u001b[0m\u001b[1;33m\u001b[0m\u001b[0m\n\u001b[1;32m----> 4\u001b[1;33m \u001b[0mcv2\u001b[0m\u001b[1;33m.\u001b[0m\u001b[0mwaitKey\u001b[0m\u001b[1;33m(\u001b[0m\u001b[1;36m0\u001b[0m\u001b[1;33m)\u001b[0m\u001b[1;33m\u001b[0m\u001b[1;33m\u001b[0m\u001b[0m\n\u001b[0m",
      "\u001b[1;31mKeyboardInterrupt\u001b[0m: "
     ]
    }
   ],
   "source": [
    "for (ex,ey,ew,eh) in eyes:\n",
    "    eye_box=cv2.rectangle(img,(ex,ey),(ex+ew,ey+eh),(0,255,0),3)\n",
    "cv2.imshow('Detected Eyes',img)\n",
    "cv2.waitKey(0)"
   ]
  },
  {
   "cell_type": "code",
   "execution_count": 26,
   "id": "3cae0f2d",
   "metadata": {},
   "outputs": [
    {
     "data": {
      "text/plain": [
       "True"
      ]
     },
     "execution_count": 26,
     "metadata": {},
     "output_type": "execute_result"
    }
   ],
   "source": [
    "cv2.imwrite('Eye_image2.png',img)"
   ]
  },
  {
   "cell_type": "code",
   "execution_count": null,
   "id": "eb17a3ec",
   "metadata": {},
   "outputs": [],
   "source": []
  }
 ],
 "metadata": {
  "kernelspec": {
   "display_name": "Python 3 (ipykernel)",
   "language": "python",
   "name": "python3"
  },
  "language_info": {
   "codemirror_mode": {
    "name": "ipython",
    "version": 3
   },
   "file_extension": ".py",
   "mimetype": "text/x-python",
   "name": "python",
   "nbconvert_exporter": "python",
   "pygments_lexer": "ipython3",
   "version": "3.9.0"
  }
 },
 "nbformat": 4,
 "nbformat_minor": 5
}
