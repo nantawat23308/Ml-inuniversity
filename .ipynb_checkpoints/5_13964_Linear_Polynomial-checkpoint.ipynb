{
 "cells": [
  {
   "cell_type": "code",
   "execution_count": 3,
   "id": "19234671",
   "metadata": {},
   "outputs": [],
   "source": [
    "import pandas as pd\n",
    "from pandas import read_csv"
   ]
  },
  {
   "cell_type": "code",
   "execution_count": 2,
   "id": "d327512f",
   "metadata": {},
   "outputs": [
    {
     "ename": "NameError",
     "evalue": "name 'read_csv' is not defined",
     "output_type": "error",
     "traceback": [
      "\u001b[1;31m---------------------------------------------------------------------------\u001b[0m",
      "\u001b[1;31mNameError\u001b[0m                                 Traceback (most recent call last)",
      "\u001b[1;32m<ipython-input-2-20b6c4105ec0>\u001b[0m in \u001b[0;36m<module>\u001b[1;34m\u001b[0m\n\u001b[1;32m----> 1\u001b[1;33m \u001b[0mdf\u001b[0m\u001b[1;33m=\u001b[0m\u001b[0mread_csv\u001b[0m\u001b[1;33m(\u001b[0m\u001b[1;34m'xy_data2.csv'\u001b[0m\u001b[1;33m,\u001b[0m\u001b[0mdelimiter\u001b[0m\u001b[1;33m=\u001b[0m\u001b[1;34m','\u001b[0m\u001b[1;33m,\u001b[0m\u001b[0mheader\u001b[0m\u001b[1;33m=\u001b[0m\u001b[1;32mNone\u001b[0m\u001b[1;33m)\u001b[0m\u001b[1;33m\u001b[0m\u001b[1;33m\u001b[0m\u001b[0m\n\u001b[0m",
      "\u001b[1;31mNameError\u001b[0m: name 'read_csv' is not defined"
     ]
    }
   ],
   "source": [
    "df=read_csv('xy_data2.csv',delimiter=',',header=None)"
   ]
  },
  {
   "cell_type": "code",
   "execution_count": null,
   "id": "f9f55d92",
   "metadata": {},
   "outputs": [],
   "source": [
    "data=df.values"
   ]
  },
  {
   "cell_type": "code",
   "execution_count": null,
   "id": "7a64e823",
   "metadata": {},
   "outputs": [],
   "source": [
    "x=data[:,0]\n",
    "y=data[:,1]"
   ]
  },
  {
   "cell_type": "code",
   "execution_count": null,
   "id": "e6de3792",
   "metadata": {},
   "outputs": [],
   "source": [
    "import matplotlib,pyplot as plt"
   ]
  },
  {
   "cell_type": "code",
   "execution_count": null,
   "id": "ec22247a",
   "metadata": {},
   "outputs": [],
   "source": [
    "plt.scatter(x,y)"
   ]
  },
  {
   "cell_type": "code",
   "execution_count": null,
   "id": "96b8a1cb",
   "metadata": {},
   "outputs": [],
   "source": [
    "x=x.reshap(-1,1)\n",
    "y=y.reshap(-1,1)"
   ]
  },
  {
   "cell_type": "code",
   "execution_count": null,
   "id": "2f5ac400",
   "metadata": {},
   "outputs": [],
   "source": [
    "from sklearn.linear_model import LinearRegression\n",
    "lin_reg=LinearRegression()\n",
    "lin_reg.fit(x,y)"
   ]
  },
  {
   "cell_type": "code",
   "execution_count": null,
   "id": "19c459e6",
   "metadata": {},
   "outputs": [],
   "source": [
    "import numpy as np\n",
    "x4plot=np.linspace(-3,3,100).reshape(-1,1)"
   ]
  },
  {
   "cell_type": "code",
   "execution_count": null,
   "id": "86c5bbbb",
   "metadata": {},
   "outputs": [],
   "source": [
    "y_lin_pred_plot=lin_reg.predict(x4plot) //for plot"
   ]
  },
  {
   "cell_type": "code",
   "execution_count": null,
   "id": "5139e2f4",
   "metadata": {},
   "outputs": [],
   "source": [
    "plt.scatter(x,y)\n",
    "plt.plot(x4plot,y_lin_pred_plot,'b')\n",
    "plt.title('Underfit Exam')"
   ]
  },
  {
   "cell_type": "code",
   "execution_count": null,
   "id": "d19211b5",
   "metadata": {},
   "outputs": [],
   "source": [
    "from sklearn.metrics import mean_squared_error, r2_score\n",
    "y_lin_reg_predict=lin_reg.predict(x,)\n",
    "rmse_lin_reg=np.sqrt(mean_squared_error(y,y_lin_reg_predict))\n",
    "r2_lin_reg=r2_score(y,y_lin_reg_predict)\n",
    "print(rmse_lin_reg)\n",
    "print(r2_lin_reg)"
   ]
  },
  {
   "cell_type": "code",
   "execution_count": null,
   "id": "8c8392c5",
   "metadata": {},
   "outputs": [],
   "source": [
    "from sklearn.processing import PolynomialFeatures\n",
    "poly_features=PolynomialFeatures(degree=2)"
   ]
  },
  {
   "cell_type": "code",
   "execution_count": null,
   "id": "d6768aee",
   "metadata": {},
   "outputs": [],
   "source": [
    "x_poly=poly_features.fit_transfrom(x) //เอา x มายกกำลังสอง"
   ]
  },
  {
   "cell_type": "code",
   "execution_count": null,
   "id": "0e15d307",
   "metadata": {},
   "outputs": [],
   "source": [
    "model=LinearRegression()\n",
    "model.fit(x_poly,y)\n",
    "x4plot_poly=poly_features.fit_transfrom(x4plot)\n",
    "y_poly_pred_plot=model.predict(x4plot_poly)"
   ]
  },
  {
   "cell_type": "code",
   "execution_count": null,
   "id": "da577c11",
   "metadata": {},
   "outputs": [],
   "source": [
    "plt.scatter(x,y)\n",
    "plt.plot(x4plot,y_lin_pred_plot,'b')\n",
    "plt.plot(x4plot,y_poly_pred_plot,'r')"
   ]
  },
  {
   "cell_type": "code",
   "execution_count": null,
   "id": "2b78abd0",
   "metadata": {},
   "outputs": [],
   "source": [
    "y_poly_pred=model.predict(x_poly)\n",
    "rmse_poly=np.sqrt(mean_squared_error(y,y_poly_pred))\n",
    "r2_poly=r2_score(y,y_poly_pred)\n",
    "print(rmse_poly)\n",
    "print(r2_poly)"
   ]
  },
  {
   "cell_type": "code",
   "execution_count": null,
   "id": "46cb1d72",
   "metadata": {},
   "outputs": [],
   "source": [
    "poly_features=PolynomialFeatures(degree=3)\n",
    "x_poly=poly_features.fit_transfrom(x)\n",
    "model=LinearRegression()\n",
    "model.fit(x_poly,y)\n",
    "x4plot_poly3=poly_features.fit_transfrom(x4plot)\n",
    "y_poly_pred_plot3=model.predict(x4plot_poly3)\n",
    "plt.scatter(x,y)\n",
    "plt.plot(x4plot,y_lin_pred_plot,'b')\n",
    "plt.plot(x4plot,y_poly_pred_plot,'r')\n",
    "plt.plot(x4plot,y_poly_pred_plot3,'g')\n",
    "plt.title('Overfittting Deminstration Exam')"
   ]
  },
  {
   "cell_type": "code",
   "execution_count": null,
   "id": "68df9bab",
   "metadata": {},
   "outputs": [],
   "source": [
    "y_poly_pred=model.predict(x_poly)\n",
    "rmse_poly=np.sqrt(mean_squared_error(y,y_poly_pred))\n",
    "r2_poly=r2_score(y,y_poly_pred)\n",
    "print(rmse_poly)\n",
    "print(r2_poly)"
   ]
  }
 ],
 "metadata": {
  "kernelspec": {
   "display_name": "Python 3 (ipykernel)",
   "language": "python",
   "name": "python3"
  },
  "language_info": {
   "codemirror_mode": {
    "name": "ipython",
    "version": 3
   },
   "file_extension": ".py",
   "mimetype": "text/x-python",
   "name": "python",
   "nbconvert_exporter": "python",
   "pygments_lexer": "ipython3",
   "version": "3.9.0"
  }
 },
 "nbformat": 4,
 "nbformat_minor": 5
}
