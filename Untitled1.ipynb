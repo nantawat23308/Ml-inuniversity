{
 "cells": [
  {
   "cell_type": "code",
   "execution_count": 1,
   "id": "5db3758f-009b-4ff3-8c39-ee45d507f3b9",
   "metadata": {},
   "outputs": [],
   "source": [
    "import pandas as pd"
   ]
  },
  {
   "cell_type": "code",
   "execution_count": 3,
   "id": "b96bd6ed-b45b-49ef-b9a3-9a5f11886bfb",
   "metadata": {},
   "outputs": [],
   "source": [
    "df = pd.read_json(\"C:\\\\Users\\\\k\\\\Downloads\\\\data\\\\exam_data1.json\")"
   ]
  },
  {
   "cell_type": "code",
   "execution_count": 6,
   "id": "5034b3b1-7734-4c91-ba43-c42a45dd6a5b",
   "metadata": {},
   "outputs": [
    {
     "name": "stdout",
     "output_type": "stream",
     "text": [
      "                0                                                  1\n",
      "0        doc53153   She authored poetry and books in the Gullah l...\n",
      "1        doc03756   He served as Minister for Defence in the Nkru...\n",
      "2        doc41870   The film is about three Chinese men traveling...\n",
      "3        doc55471  sa. \"Sámi girkoráđđi\", l.sa. \"Sáme girkoráde\",...\n",
      "4        doc07508   It is usually broad-topped and made of excava...\n",
      "...           ...                                                ...\n",
      "35075  title70703                                              Alamy\n",
      "35076  title61194                                 Steve Hui Chun-tak\n",
      "35077  title29520                                            Nirjara\n",
      "35078  title18861                                            Intwine\n",
      "35079  title14762                           Billy Ritchie (musician)\n",
      "\n",
      "[35080 rows x 2 columns]\n"
     ]
    }
   ],
   "source": [
    "print(df)"
   ]
  },
  {
   "cell_type": "code",
   "execution_count": 5,
   "id": "c15d7d42-67d8-4ba6-9ea5-4ac184173847",
   "metadata": {},
   "outputs": [
    {
     "ename": "SyntaxError",
     "evalue": "unexpected EOF while parsing (Temp/ipykernel_16024/4212431802.py, line 1)",
     "output_type": "error",
     "traceback": [
      "\u001b[1;36m  File \u001b[1;32m\"C:\\Users\\k\\AppData\\Local\\Temp/ipykernel_16024/4212431802.py\"\u001b[1;36m, line \u001b[1;32m1\u001b[0m\n\u001b[1;33m    data_train = pd.read_json((\"C:\\\\Users\\\\k\\\\Downloads\\\\data\\\\train_q.json\")\u001b[0m\n\u001b[1;37m                                                                             ^\u001b[0m\n\u001b[1;31mSyntaxError\u001b[0m\u001b[1;31m:\u001b[0m unexpected EOF while parsing\n"
     ]
    }
   ],
   "source": [
    "data"
   ]
  },
  {
   "cell_type": "code",
   "execution_count": null,
   "id": "81eda507-e447-4589-b001-390485f8e7b5",
   "metadata": {},
   "outputs": [],
   "source": []
  }
 ],
 "metadata": {
  "kernelspec": {
   "display_name": "Python 3 (ipykernel)",
   "language": "python",
   "name": "python3"
  },
  "language_info": {
   "codemirror_mode": {
    "name": "ipython",
    "version": 3
   },
   "file_extension": ".py",
   "mimetype": "text/x-python",
   "name": "python",
   "nbconvert_exporter": "python",
   "pygments_lexer": "ipython3",
   "version": "3.9.7"
  }
 },
 "nbformat": 4,
 "nbformat_minor": 5
}
